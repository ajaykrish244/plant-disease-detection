{
 "cells": [
  {
   "cell_type": "code",
   "execution_count": 39,
   "id": "d4144791",
   "metadata": {},
   "outputs": [],
   "source": [
    "import tensorflow as tf\n",
    "from tensorflow.keras.models import Sequential\n",
    "from tensorflow.keras.layers import Dense,Activation, Flatten, BatchNormalization, Conv2D, MaxPooling2D\n",
    "from tensorflow.keras.preprocessing import image\n",
    "from tensorflow.keras.preprocessing.image import ImageDataGenerator\n",
    "import keras\n",
    "import matplotlib.pyplot as plt\n",
    "from tensorflow.keras.metrics import categorical_crossentropy\n",
    "from tensorflow.keras.optimizers import Adam\n",
    "from sklearn.metrics import confusion_matrix\n",
    "import itertools\n",
    "import os\n",
    "import numpy as np\n",
    "%matplotlib inline"
   ]
  },
  {
   "cell_type": "code",
   "execution_count": 40,
   "id": "03a3a679",
   "metadata": {},
   "outputs": [],
   "source": [
    "train_path='Datasets/train'\n",
    "valid_path='Datasets/val'\n",
    "test_path='Datasets/testing'"
   ]
  },
  {
   "cell_type": "code",
   "execution_count": 41,
   "id": "fbbe2014",
   "metadata": {},
   "outputs": [
    {
     "name": "stdout",
     "output_type": "stream",
     "text": [
      "Found 715 images belonging to 2 classes.\n",
      "Found 135 images belonging to 2 classes.\n",
      "Found 7 images belonging to 2 classes.\n"
     ]
    }
   ],
   "source": [
    "train_batches=ImageDataGenerator(preprocessing_function=keras.applications.vgg16.preprocess_input) \\\n",
    "    .flow_from_directory(directory=train_path,target_size=(256,256),classes=['diseased cotton leaf','fresh cotton leaf'],batch_size=10)\n",
    "val_batches=ImageDataGenerator(preprocessing_function=keras.applications.vgg16.preprocess_input) \\\n",
    "    .flow_from_directory(directory=valid_path,target_size=(256,256),classes=['diseased cotton leaf','fresh cotton leaf'],batch_size=10)\n",
    "test_batches=ImageDataGenerator(preprocessing_function=keras.applications.vgg16.preprocess_input) \\\n",
    "    .flow_from_directory(directory=test_path,target_size=(256,256),classes=['diseased cotton leaf','fresh cotton leaf'],shuffle=False)"
   ]
  },
  {
   "cell_type": "code",
   "execution_count": 42,
   "id": "71c3e690",
   "metadata": {},
   "outputs": [],
   "source": [
    "model=Sequential([Conv2D(filters=16, kernel_size=(3,3), activation='relu', padding='same', input_shape=(256,256,3)),\n",
    "                  MaxPooling2D(pool_size=(2,2)),\n",
    "                  Conv2D(filters=32, kernel_size=(3,3), activation='relu', padding='same'),\n",
    "                  MaxPooling2D(pool_size=(2,2),strides=2),\n",
    "                  Conv2D(filters=64, kernel_size=(3,3), activation='relu', padding='same'),\n",
    "                  MaxPooling2D(pool_size=(2,2),strides=2),\n",
    "                  Flatten(),\n",
    "                  Dense(units=2,activation='softmax'),\n",
    "])"
   ]
  },
  {
   "cell_type": "code",
   "execution_count": 43,
   "id": "92f95242",
   "metadata": {},
   "outputs": [
    {
     "name": "stdout",
     "output_type": "stream",
     "text": [
      "Model: \"sequential_2\"\n",
      "_________________________________________________________________\n",
      " Layer (type)                Output Shape              Param #   \n",
      "=================================================================\n",
      " conv2d_6 (Conv2D)           (None, 256, 256, 16)      448       \n",
      "                                                                 \n",
      " max_pooling2d_6 (MaxPooling  (None, 128, 128, 16)     0         \n",
      " 2D)                                                             \n",
      "                                                                 \n",
      " conv2d_7 (Conv2D)           (None, 128, 128, 32)      4640      \n",
      "                                                                 \n",
      " max_pooling2d_7 (MaxPooling  (None, 64, 64, 32)       0         \n",
      " 2D)                                                             \n",
      "                                                                 \n",
      " conv2d_8 (Conv2D)           (None, 64, 64, 64)        18496     \n",
      "                                                                 \n",
      " max_pooling2d_8 (MaxPooling  (None, 32, 32, 64)       0         \n",
      " 2D)                                                             \n",
      "                                                                 \n",
      " flatten_2 (Flatten)         (None, 65536)             0         \n",
      "                                                                 \n",
      " dense_2 (Dense)             (None, 2)                 131074    \n",
      "                                                                 \n",
      "=================================================================\n",
      "Total params: 154,658\n",
      "Trainable params: 154,658\n",
      "Non-trainable params: 0\n",
      "_________________________________________________________________\n"
     ]
    }
   ],
   "source": [
    "model.summary()"
   ]
  },
  {
   "cell_type": "code",
   "execution_count": 44,
   "id": "a8f33d7a",
   "metadata": {},
   "outputs": [],
   "source": [
    "model.compile(optimizer=Adam(learning_rate=0.0001), loss='categorical_crossentropy',metrics=['accuracy'])"
   ]
  },
  {
   "cell_type": "code",
   "execution_count": 45,
   "id": "3143ea8a",
   "metadata": {},
   "outputs": [
    {
     "name": "stdout",
     "output_type": "stream",
     "text": [
      "Epoch 1/10\n",
      "72/72 [==============================] - 25s 341ms/step - loss: 4.0258 - accuracy: 0.7385 - val_loss: 0.6919 - val_accuracy: 0.9259\n",
      "Epoch 2/10\n",
      "72/72 [==============================] - 25s 340ms/step - loss: 0.7166 - accuracy: 0.9007 - val_loss: 0.5912 - val_accuracy: 0.9407\n",
      "Epoch 3/10\n",
      "72/72 [==============================] - 24s 339ms/step - loss: 0.3163 - accuracy: 0.9483 - val_loss: 0.7606 - val_accuracy: 0.9333\n",
      "Epoch 4/10\n",
      "72/72 [==============================] - 24s 338ms/step - loss: 0.1341 - accuracy: 0.9748 - val_loss: 0.8894 - val_accuracy: 0.9111\n",
      "Epoch 5/10\n",
      "72/72 [==============================] - 25s 340ms/step - loss: 0.0984 - accuracy: 0.9790 - val_loss: 0.4214 - val_accuracy: 0.9407\n",
      "Epoch 6/10\n",
      "72/72 [==============================] - 31s 433ms/step - loss: 7.8869e-04 - accuracy: 1.0000 - val_loss: 0.4258 - val_accuracy: 0.9259\n",
      "Epoch 7/10\n",
      "72/72 [==============================] - 33s 465ms/step - loss: 3.5325e-04 - accuracy: 1.0000 - val_loss: 0.3877 - val_accuracy: 0.9407\n",
      "Epoch 8/10\n",
      "72/72 [==============================] - 32s 445ms/step - loss: 2.0930e-04 - accuracy: 1.0000 - val_loss: 0.3761 - val_accuracy: 0.9481\n",
      "Epoch 9/10\n",
      "72/72 [==============================] - 36s 496ms/step - loss: 1.6083e-04 - accuracy: 1.0000 - val_loss: 0.3854 - val_accuracy: 0.9407\n",
      "Epoch 10/10\n",
      "72/72 [==============================] - 29s 404ms/step - loss: 1.3675e-04 - accuracy: 1.0000 - val_loss: 0.3883 - val_accuracy: 0.9333\n"
     ]
    },
    {
     "data": {
      "text/plain": [
       "<keras.callbacks.History at 0x240864eadf0>"
      ]
     },
     "execution_count": 45,
     "metadata": {},
     "output_type": "execute_result"
    }
   ],
   "source": [
    "model.fit(x=train_batches, validation_data=val_batches,epochs=10"
   ]
  },
  {
   "cell_type": "code",
   "execution_count": 54,
   "id": "9bcc4749",
   "metadata": {},
   "outputs": [
    {
     "name": "stdout",
     "output_type": "stream",
     "text": [
      "[[1. 0.]\n",
      " [1. 0.]\n",
      " [1. 0.]\n",
      " [0. 1.]\n",
      " [0. 1.]\n",
      " [0. 1.]\n",
      " [0. 1.]]\n"
     ]
    }
   ],
   "source": [
    "test_imgs,test_labels=next(test_batches)\n",
    "print(test_labels)"
   ]
  },
  {
   "cell_type": "code",
   "execution_count": 55,
   "id": "8c6b460e",
   "metadata": {},
   "outputs": [
    {
     "data": {
      "text/plain": [
       "array([0, 0, 0, 1, 1, 1, 1])"
      ]
     },
     "execution_count": 55,
     "metadata": {},
     "output_type": "execute_result"
    }
   ],
   "source": [
    "test_batches.classes"
   ]
  },
  {
   "cell_type": "code",
   "execution_count": 56,
   "id": "9bb63307",
   "metadata": {},
   "outputs": [],
   "source": [
    "predictions=model.predict(x=test_batches, verbose=0)"
   ]
  },
  {
   "cell_type": "code",
   "execution_count": 57,
   "id": "3d1d2786",
   "metadata": {},
   "outputs": [
    {
     "data": {
      "text/plain": [
       "array([[1., 0.],\n",
       "       [1., 0.],\n",
       "       [1., 0.],\n",
       "       [0., 1.],\n",
       "       [0., 1.],\n",
       "       [0., 1.],\n",
       "       [0., 1.]], dtype=float32)"
      ]
     },
     "execution_count": 57,
     "metadata": {},
     "output_type": "execute_result"
    }
   ],
   "source": [
    "np.round(predictions)"
   ]
  },
  {
   "cell_type": "code",
   "execution_count": 58,
   "id": "9b50707a",
   "metadata": {},
   "outputs": [],
   "source": [
    "cm=confusion_matrix(y_true=test_batches.classes,y_pred=np.argmax(predictions,axis=-1))"
   ]
  },
  {
   "cell_type": "code",
   "execution_count": 59,
   "id": "f197d04f",
   "metadata": {},
   "outputs": [],
   "source": [
    "def plot_confusion_matrix(cm, classes,\n",
    "                          normalize=False,\n",
    "                          title='Confusion matrix',\n",
    "                          cmap=plt.cm.Blues):\n",
    "    \"\"\"\n",
    "    This function prints and plots the confusion matrix.\n",
    "    Normalization can be applied by setting `normalize=True`.\n",
    "    \"\"\"\n",
    "    plt.imshow(cm, interpolation='nearest', cmap=cmap)\n",
    "    plt.title(title)\n",
    "    plt.colorbar()\n",
    "    tick_marks = np.arange(len(classes))\n",
    "    plt.xticks(tick_marks, classes, rotation=45)\n",
    "    plt.yticks(tick_marks, classes)\n",
    "\n",
    "    if normalize:\n",
    "        cm = cm.astype('float') / cm.sum(axis=1)[:, np.newaxis]\n",
    "        print(\"Normalized confusion matrix\")\n",
    "    else:\n",
    "        print('Confusion matrix, without normalization')\n",
    "\n",
    "    print(cm)\n",
    "\n",
    "    thresh = cm.max() / 2.\n",
    "    for i, j in itertools.product(range(cm.shape[0]), range(cm.shape[1])):\n",
    "        plt.text(j, i, cm[i, j],\n",
    "            horizontalalignment=\"center\",\n",
    "            color=\"white\" if cm[i, j] > thresh else \"black\")\n",
    "\n",
    "    plt.tight_layout()\n",
    "    plt.ylabel('True label')\n",
    "    plt.xlabel('Predicted label')"
   ]
  },
  {
   "cell_type": "code",
   "execution_count": 60,
   "id": "da3dc3fb",
   "metadata": {},
   "outputs": [
    {
     "data": {
      "text/plain": [
       "{'diseased cotton leaf': 0, 'fresh cotton leaf': 1}"
      ]
     },
     "execution_count": 60,
     "metadata": {},
     "output_type": "execute_result"
    }
   ],
   "source": [
    "test_batches.class_indices"
   ]
  },
  {
   "cell_type": "code",
   "execution_count": 61,
   "id": "d9362a21",
   "metadata": {},
   "outputs": [
    {
     "name": "stdout",
     "output_type": "stream",
     "text": [
      "Confusion matrix, without normalization\n",
      "[[3 0]\n",
      " [0 4]]\n"
     ]
    },
    {
     "data": {
      "image/png": "[encoded data removed]",
      "text/plain": [
       "<Figure size 432x288 with 2 Axes>"
      ]
     },
     "metadata": {
      "needs_background": "light"
     },
     "output_type": "display_data"
    }
   ],
   "source": [
    "cm_plot_labels = ['Disease','Fresh']\n",
    "plot_confusion_matrix(cm=cm, classes=cm_plot_labels, title='Confusion Matrix')"
   ]
  },
  {
   "cell_type": "code",
   "execution_count": null,
   "id": "7e357ec2",
   "metadata": {},
   "outputs": [],
   "source": []
  }
 ],
 "metadata": {
  "interpreter": {
   "hash": "aec7fda99ddfa5ea25ce1d0f5018f1981189f8b1e90d0325eaf71eb62c07eb3d"
  },
  "kernelspec": {
   "display_name": "Python 3 (ipykernel)",
   "language": "python",
   "name": "python3"
  },
  "language_info": {
   "codemirror_mode": {
    "name": "ipython",
    "version": 3
   },
   "file_extension": ".py",
   "mimetype": "text/x-python",
   "name": "python",
   "nbconvert_exporter": "python",
   "pygments_lexer": "ipython3",
   "version": "3.9.7"
  }
 },
 "nbformat": 4,
 "nbformat_minor": 5
}
